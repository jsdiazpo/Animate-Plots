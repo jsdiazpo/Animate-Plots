{
 "cells": [
  {
   "cell_type": "code",
   "execution_count": 4,
   "id": "18a7693a-fef6-485e-8564-a451a28a4f20",
   "metadata": {},
   "outputs": [],
   "source": [
    "import numpy as np\n",
    "import pandas as pd\n",
    "import matplotlib.pyplot as plt\n",
    "%matplotlib inline\n",
    "# plt.rcParams['figure.facecolor'] = 'w'\n",
    "plt.style.use(['dark_background', 'science', 'notebook'])\n",
    "# import seaborn as sns\n",
    "import ipywidgets"
   ]
  },
  {
   "cell_type": "code",
   "execution_count": 36,
   "id": "13ba2e5d-04bb-4ffd-bc0f-727762f4e635",
   "metadata": {},
   "outputs": [],
   "source": [
    "def function(b0=1, b1=1, b2=0):\n",
    "    fig, ax = plt.subplots(figsize=(8, 4))\n",
    "    xmin, xmax = -5, 5\n",
    "    ymin, ymax = -5, 5\n",
    "    x = np.linspace(xmin, xmax, 100)\n",
    "    y = b0 + b1*x + b2*x**2\n",
    "    ax.plot(x, y, c='tomato', lw=4, alpha=0.96, \n",
    "            label=fr'$b_0$={b0}, $b_1$={b1}, $b_2$={b2}')\n",
    "    # ax.text()\n",
    "    ax.set(xlabel='x', ylabel='y', #title=f'{sequence}', \n",
    "           xlim=[xmin,xmax], ylim=[ymin,ymax])\n",
    "    ax.grid(lw=1, alpha=0.2, zorder=0)\n",
    "    ax.legend(loc='lower right')"
   ]
  },
  {
   "cell_type": "code",
   "execution_count": 37,
   "id": "cded6d4e-3b70-4543-aff1-b33da6d72ca7",
   "metadata": {},
   "outputs": [
    {
     "data": {
      "application/vnd.jupyter.widget-view+json": {
       "model_id": "4faeada900cc4e02aa54c6ea169f1ef5",
       "version_major": 2,
       "version_minor": 0
      },
      "text/plain": [
       "interactive(children=(FloatSlider(value=1.0, description='b0', max=5.0), FloatSlider(value=1.0, description='b…"
      ]
     },
     "metadata": {},
     "output_type": "display_data"
    },
    {
     "data": {
      "text/plain": [
       "<function __main__.function(b0=1, b1=1, b2=0)>"
      ]
     },
     "execution_count": 37,
     "metadata": {},
     "output_type": "execute_result"
    }
   ],
   "source": [
    "ipywidgets.interact(function, b0=(0, 5, 0.1), b1=(-1, 1, 0.1), b2=(-2, 2, 0.1))"
   ]
  },
  {
   "cell_type": "code",
   "execution_count": 38,
   "id": "e7c7d4e3-246a-4820-8bae-ed119e21f1c7",
   "metadata": {},
   "outputs": [
    {
     "data": {
      "image/png": "[encoded data removed]",
      "text/plain": [
       "<Figure size 576x288 with 1 Axes>"
      ]
     },
     "metadata": {},
     "output_type": "display_data"
    }
   ],
   "source": [
    "function(0,1,2)"
   ]
  },
  {
   "cell_type": "code",
   "execution_count": 35,
   "id": "1d2c228c-48fa-499e-94ba-2f2a86a3ac6b",
   "metadata": {},
   "outputs": [
    {
     "data": {
      "text/plain": [
       "array([ 0.        ,  0.1010101 ,  0.2020202 ,  0.3030303 ,  0.4040404 ,\n",
       "        0.50505051,  0.60606061,  0.70707071,  0.80808081,  0.90909091,\n",
       "        1.01010101,  1.11111111,  1.21212121,  1.31313131,  1.41414141,\n",
       "        1.51515152,  1.61616162,  1.71717172,  1.81818182,  1.91919192,\n",
       "        2.02020202,  2.12121212,  2.22222222,  2.32323232,  2.42424242,\n",
       "        2.52525253,  2.62626263,  2.72727273,  2.82828283,  2.92929293,\n",
       "        3.03030303,  3.13131313,  3.23232323,  3.33333333,  3.43434343,\n",
       "        3.53535354,  3.63636364,  3.73737374,  3.83838384,  3.93939394,\n",
       "        4.04040404,  4.14141414,  4.24242424,  4.34343434,  4.44444444,\n",
       "        4.54545455,  4.64646465,  4.74747475,  4.84848485,  4.94949495,\n",
       "        5.05050505,  5.15151515,  5.25252525,  5.35353535,  5.45454545,\n",
       "        5.55555556,  5.65656566,  5.75757576,  5.85858586,  5.95959596,\n",
       "        6.06060606,  6.16161616,  6.26262626,  6.36363636,  6.46464646,\n",
       "        6.56565657,  6.66666667,  6.76767677,  6.86868687,  6.96969697,\n",
       "        7.07070707,  7.17171717,  7.27272727,  7.37373737,  7.47474747,\n",
       "        7.57575758,  7.67676768,  7.77777778,  7.87878788,  7.97979798,\n",
       "        8.08080808,  8.18181818,  8.28282828,  8.38383838,  8.48484848,\n",
       "        8.58585859,  8.68686869,  8.78787879,  8.88888889,  8.98989899,\n",
       "        9.09090909,  9.19191919,  9.29292929,  9.39393939,  9.49494949,\n",
       "        9.5959596 ,  9.6969697 ,  9.7979798 ,  9.8989899 , 10.        ])"
      ]
     },
     "execution_count": 35,
     "metadata": {},
     "output_type": "execute_result"
    }
   ],
   "source": [
    "np.linspace(0,10, 100)"
   ]
  },
  {
   "cell_type": "code",
   "execution_count": null,
   "id": "fd3c3ed0-a17c-47fc-8187-8d7c8e8a9ba1",
   "metadata": {},
   "outputs": [],
   "source": []
  }
 ],
 "metadata": {
  "kernelspec": {
   "display_name": "Python 3 (ipykernel)",
   "language": "python",
   "name": "python3"
  },
  "language_info": {
   "codemirror_mode": {
    "name": "ipython",
    "version": 3
   },
   "file_extension": ".py",
   "mimetype": "text/x-python",
   "name": "python",
   "nbconvert_exporter": "python",
   "pygments_lexer": "ipython3",
   "version": "3.9.5"
  }
 },
 "nbformat": 4,
 "nbformat_minor": 5
}
